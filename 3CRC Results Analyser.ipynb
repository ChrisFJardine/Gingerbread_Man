{
  "cells": [
    {
      "cell_type": "code",
      "execution_count": 127,
      "metadata": {
        "id": "4j_68nLv3t0v"
      },
      "outputs": [],
      "source": [
        "import time\n",
        "from datetime import datetime\n",
        "from decimal import Decimal\n",
        "\n",
        "import pandas as pd\n",
        "import requests\n",
        "from bs4 import BeautifulSoup"
      ]
    },
    {
      "cell_type": "code",
      "execution_count": 128,
      "metadata": {},
      "outputs": [],
      "source": [
        " \n",
        "def getSoup(page):\n",
        "  soup = BeautifulSoup(page.text, 'lxml')\n",
        "  return (soup)\n",
        "\n",
        "def getRunDate(soup):\n",
        "  dateString = soup.find('h4').text\n",
        "  runDate = datetime.strptime(dateString, '%d/%m/%Y').date()\n",
        "  return(runDate)\n",
        "\n",
        "def getCourse(soup):\n",
        "  if soup.find('h2')is None:\n",
        "    print('error in getCourse')\n",
        "    course = 'getCourse Error'\n",
        "  else:\n",
        "      course = soup.find('h2').text.replace('Results','')\n",
        "  return(course)\n",
        "\n",
        "def get_initials (fullName):\n",
        "  splitName = fullName.split(' ')\n",
        "  initials = ''\n",
        "  for name in splitName:\n",
        "    if len(name) > 1:\n",
        "      initials = initials + name.strip()[0] + ' '\n",
        "  return(initials.strip())\n"
      ]
    },
    {
      "cell_type": "code",
      "execution_count": 136,
      "metadata": {
        "id": "CyUJ_DjIjhnJ"
      },
      "outputs": [],
      "source": [
        "\n",
        "def getRunDetails(soup):\n",
        "  columns = ['Athlete Place','Athlete Name', 'Athlete Gender','Clock Time','Handicap','Run Time','Avg Pace','Points', 'Run ClassID','Run Length','Run Distance','Run Location','Run Date']\n",
        "  #['Athlete Place','Athlete Name', 'Athlete Gender','Clock Time','Handicap','Run Time','Avg Pace','Points', 'Run ClassID','Run Length','Run Distance','Run Location','Run Date']\n",
        "  runDetails = pd.DataFrame(columns = columns)\n",
        "  course = getCourse(soup)\n",
        "  runDate = getRunDate(soup)\n",
        "  handicapInd = 0\n",
        "  volunteerInd = 0\n",
        "  clockTime = None\n",
        "  handicap = None\n",
        "  headers = soup.find_all(['th'])\n",
        "  for header in headers:\n",
        "    if header.getText() == 'Handicap':\n",
        "      handicapInd = 1\n",
        "  for record in soup.find('table', attrs={'class':'table'}).find_all(['tr']):\n",
        "    if record.find('img') is not None:    \n",
        "      runClassID = record.find('img')['class'][0]\n",
        "      headerString = record.get_text().split()\n",
        "      if 'Volunteers' in headerString:\n",
        "        volunteerInd = 1\n",
        "      if 'Run' in headerString:\n",
        "        runType = (headerString[headerString.index('Run') -1])\n",
        "        for word in headerString:\n",
        "          if 'km' in word:\n",
        "            dist  = Decimal(word.replace('km','').replace(')','')) \n",
        "    row = [td.text for td in record.find_all(['td'])]\n",
        "    if handicapInd == 0:\n",
        "      row.insert(3, clockTime)\n",
        "      row.insert(4, handicap)\n",
        "    row.append(runClassID)\n",
        "    row.append(runType)\n",
        "    row.append(dist)\n",
        "    row.append(course)\n",
        "    row.append(runDate)\n",
        "    if len(row) == 13 and len(str(row[5])) > 1 and len(row[1]) > 1:\n",
        "      runDetails.loc[len(runDetails)] = row\n",
        "\n",
        "  return(runDetails) \n",
        "\n"
      ]
    },
    {
      "cell_type": "code",
      "execution_count": 130,
      "metadata": {},
      "outputs": [],
      "source": [
        "def getVolDetails(soup):\n",
        "  columns = ['Athlete Place','Athlete Name', 'Athlete Gender','Clock Time','Handicap','Run Time','Avg Pace','Points', 'Run ClassID','Run Length','Run Distance','Run Location','Run Date']\n",
        "  volDetails = pd.DataFrame(columns = columns)\n",
        "  course = getCourse(soup)\n",
        "  runDate = getRunDate(soup)\n",
        "  volunteerInd = 0\n",
        "  headers = soup.find_all(['th'])\n",
        "  for record in soup.find('table', attrs={'class':'table'}).find_all(['tr']):\n",
        "    if record.find('img') is not None:    \n",
        "      runClassID = record.find('img')['id']\n",
        "    if runClassID == 'g1-3':\n",
        "      row = [td.text for td in record.find_all(['td'])]\n",
        "      if len(row) == 5:\n",
        "        vol = [None,  #Place\n",
        "                row[1],#Name\n",
        "                row[2],#Gender\n",
        "                None, #Clock Time\n",
        "                None, #Handicap\n",
        "                None, #Run Time\n",
        "                None, #Avg Pace\n",
        "                row[4], #Points\n",
        "                runClassID,\n",
        "                None, #Length\n",
        "                None, #Distance\n",
        "                course,\n",
        "                runDate\n",
        "                ]      \n",
        "        volDetails.loc[len(volDetails)] = vol\n",
        "  return(volDetails) \n"
      ]
    },
    {
      "cell_type": "code",
      "execution_count": 137,
      "metadata": {},
      "outputs": [],
      "source": [
        "def get_pages(urlbase, startPageNo, pagesToCheck):\n",
        "  #columns = ['Athlete Place','Athlete Name', 'Athlete Gender','Run Time','Avg Pace','Points', 'Run ClassID','Run Length','Run Distance','Run Location','Run Date']\n",
        "  columns = ['Athlete Place','Athlete Name', 'Athlete Gender','Clock Time','Handicap','Run Time','Avg Pace','Points', 'Run ClassID','Run Length','Run Distance','Run Location','Run Date']\n",
        "  allResults = pd.DataFrame(columns = columns)\n",
        "  for i in range (startPageNo, startPageNo + pagesToCheck):          #150 is start of 2022 season. \n",
        "    url = urlbase + str(i)\n",
        "    try:\n",
        "      page = requests.get(url)\n",
        "    except:\n",
        "      print('Exception ' + str(page.status_code))  \n",
        "    if page.status_code == 200:\n",
        "        soup = getSoup(page)\n",
        "        runResults = getRunDetails(soup)\n",
        "        allResults = pd.concat([allResults, runResults])\n",
        "        volDetails = getVolDetails(soup)\n",
        "        allResults = pd.concat([allResults, volDetails])\n",
        "        time.sleep(1)\n",
        "  return(allResults)"
      ]
    },
    {
      "cell_type": "code",
      "execution_count": 132,
      "metadata": {},
      "outputs": [],
      "source": [
        "def calcElapsedTime(x):\n",
        "    if pd.isnull(x):\n",
        "        time = ''\n",
        "    else:\n",
        "        runTime = x.split(':')\n",
        "        if len(runTime) == 2 :\n",
        "            time = int(runTime[0]) * 60 + int(runTime[1])\n",
        "        else:\n",
        "            time = int(runTime[0]) * 60 * 60 + int(runTime[1]) * 60 + int(runTime[2])\n",
        "    return(time)"
      ]
    },
    {
      "cell_type": "code",
      "execution_count": null,
      "metadata": {},
      "outputs": [],
      "source": [
        "urlbase = \"https://theautomatedclub.com/3CRC/Result/Details/\"\n",
        "results = get_pages(urlbase, 150, 50)\n",
        "\n",
        "#results.to_csv('/content/drive/MyDrive/Colab Notebooks/Gingerbread_Man/2022_23_Results.csv', index=False) \n",
        "#display(results[results['Athlete Name'].str.contains(\"C J\")])\n"
      ]
    },
    {
      "cell_type": "code",
      "execution_count": 138,
      "metadata": {},
      "outputs": [],
      "source": [
        "#results = pd.read_csv('./2022_23_Results.csv')\n",
        "results['Athlete Place'] = None\n",
        "results = results.drop_duplicates()\n",
        "results['Run Time (s)'] = results.apply(lambda row : calcElapsedTime(row['Run Time']), axis = 1)\n",
        "results['Clock Time (s)'] = results.apply(lambda row : calcElapsedTime(row['Clock Time']), axis = 1)\n",
        "results['Handicap (s)'] = results.apply(lambda row : calcElapsedTime(row['Handicap']), axis = 1)\n",
        "results['Avg Pace (s)'] = results.apply(lambda row : calcElapsedTime(row['Avg Pace']), axis = 1)\n",
        "results['Athlete Intials'] = results.apply(lambda row : get_initials(row['Athlete Name']), axis = 1)\n",
        "results.Points = pd.to_numeric(results.Points, errors='coerce')\n",
        "results['Total Points'] = results.groupby(['Athlete Name'])['Points'].cumsum() \n",
        "results.to_csv('./2022_23_Results.csv', index=False) \n"
      ]
    }
  ],
  "metadata": {
    "colab": {
      "authorship_tag": "ABX9TyOZttFlEsKYqcukW5EViVm7",
      "collapsed_sections": [],
      "include_colab_link": true,
      "provenance": []
    },
    "kernelspec": {
      "display_name": "Python 3.7.1 ('base')",
      "language": "python",
      "name": "python3"
    },
    "language_info": {
      "codemirror_mode": {
        "name": "ipython",
        "version": 3
      },
      "file_extension": ".py",
      "mimetype": "text/x-python",
      "name": "python",
      "nbconvert_exporter": "python",
      "pygments_lexer": "ipython3",
      "version": "3.7.1"
    },
    "vscode": {
      "interpreter": {
        "hash": "b500db6cd586ece582d033cd377559500f64dcbcafb61303efa15a865a174cfb"
      }
    }
  },
  "nbformat": 4,
  "nbformat_minor": 0
}
