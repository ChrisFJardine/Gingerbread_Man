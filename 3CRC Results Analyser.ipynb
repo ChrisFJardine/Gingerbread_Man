{
  "cells": [
    {
      "cell_type": "code",
      "execution_count": 1,
      "metadata": {
        "id": "4j_68nLv3t0v"
      },
      "outputs": [],
      "source": [
        "import time\n",
        "from datetime import datetime\n",
        "from decimal import Decimal\n",
        "\n",
        "import pandas as pd\n",
        "import requests\n",
        "from bs4 import BeautifulSoup"
      ]
    },
    {
      "cell_type": "code",
      "execution_count": 2,
      "metadata": {
        "id": "CyUJ_DjIjhnJ"
      },
      "outputs": [],
      "source": [
        " \n",
        "def getSoup(page):\n",
        "  soup = BeautifulSoup(page.text, 'lxml')\n",
        "  return (soup)\n",
        "\n",
        "def getRunDate(soup):\n",
        "  dateString = soup.find('h4').text\n",
        "  runDate = datetime.strptime(dateString, '%d/%m/%Y').date()\n",
        "  return(runDate)\n",
        "\n",
        "def getCourse(soup):\n",
        "  if soup.find('h2')is None:\n",
        "    print('error in getCourse')\n",
        "    course = 'getCourse Error'\n",
        "  else:\n",
        "      course = soup.find('h2').text.replace('Results','')\n",
        "  return(course)\n",
        "\n",
        "def getRunDetails(soup):\n",
        "  columns = ['Athlete Place','Athlete Name', 'Athlete Gender','Clock Time','Handicap','Run Time','Avg Pace','Points', 'Run ClassID','Run Length','Run Distance','Run Location','Run Date']\n",
        "  #['Athlete Place','Athlete Name', 'Athlete Gender','Clock Time','Handicap','Run Time','Avg Pace','Points', 'Run ClassID','Run Length','Run Distance','Run Location','Run Date']\n",
        "  runDetails = pd.DataFrame(columns = columns)\n",
        "  course = getCourse(soup)\n",
        "  runDate = getRunDate(soup)\n",
        "  handicapInd = 0\n",
        "  clockTime = None\n",
        "  handicap = None\n",
        "  headers = soup.find_all(['th'])\n",
        "  for header in headers:\n",
        "    if header.getText() == 'Handicap':\n",
        "      handicapInd = 1\n",
        "  for record in soup.find('table', attrs={'class':'table'}).find_all(['tr']):\n",
        "    if record.find('img') is not None:    \n",
        "      runClassID = record.find('img')['class'][0]\n",
        "      headerString = record.get_text().split()\n",
        "      if 'Run' in headerString:\n",
        "        runType = (headerString[headerString.index('Run') -1])\n",
        "        for word in headerString:\n",
        "          if 'km' in word:\n",
        "            dist  = Decimal(word.replace('km','').replace(')','')) \n",
        "    row = [td.text for td in record.find_all(['td'])]\n",
        "    if handicapInd == 0:\n",
        "      row.insert(3, clockTime)\n",
        "      row.insert(4, handicap)\n",
        "    row.append(runClassID)\n",
        "    row.append(runType)\n",
        "    row.append(dist)\n",
        "    row.append(course)\n",
        "    row.append(runDate)\n",
        "    if len(row) == 13:\n",
        "      runDetails.loc[len(runDetails)] = row\n",
        "  return(runDetails) \n",
        "\n",
        "def get_pages(urlbase, startPageNo, pagesToCheck):\n",
        "  #columns = ['Athlete Place','Athlete Name', 'Athlete Gender','Run Time','Avg Pace','Points', 'Run ClassID','Run Length','Run Distance','Run Location','Run Date']\n",
        "  columns = ['Athlete Place','Athlete Name', 'Athlete Gender','Clock Time','Handicap','Run Time','Avg Pace','Points', 'Run ClassID','Run Length','Run Distance','Run Location','Run Date']\n",
        "  allResults = pd.DataFrame(columns = columns)\n",
        "  for i in range (startPageNo, startPageNo + pagesToCheck):          #150 is start of 2022 season. \n",
        "    url = urlbase + str(i)\n",
        "    try:\n",
        "      page = requests.get(url)\n",
        "    except:\n",
        "      print('Exception ' + str(page.status_code))  \n",
        "    if page.status_code == 200:\n",
        "        soup = getSoup(page)\n",
        "        runDetails = getRunDetails(soup)\n",
        "        allResults = pd.concat([allResults, runDetails])\n",
        "        time.sleep(1)\n",
        "  return(allResults)"
      ]
    },
    {
      "cell_type": "code",
      "execution_count": 3,
      "metadata": {
        "id": "2uQdw_cTkdFE"
      },
      "outputs": [],
      "source": [
        "urlbase = \"https://theautomatedclub.com/3CRC/Result/Details/\"\n",
        "results = get_pages(urlbase, 150, 26)\n",
        "results = results.drop_duplicates()\n"
      ]
    },
    {
      "cell_type": "code",
      "execution_count": 5,
      "metadata": {
        "id": "SGr80tkv24Bt"
      },
      "outputs": [],
      "source": [
        "#results.to_csv('/content/drive/MyDrive/Colab Notebooks/Gingerbread_Man/2022_23_Results.csv', index=False) \n",
        "results.to_csv('./2022_23_Results.csv', index=False) "
      ]
    },
    {
      "cell_type": "code",
      "execution_count": null,
      "metadata": {
        "colab": {
          "base_uri": "https://localhost:8080/",
          "height": 300
        },
        "id": "DZxWJdxZK48M",
        "outputId": "781fc911-dbd2-4a37-e7e4-1086b1872de9"
      },
      "outputs": [],
      "source": [
        "display(results[results['Athlete Name'].str.contains(\"Chris Jardine\")])\n"
      ]
    },
    {
      "cell_type": "markdown",
      "metadata": {
        "id": "HpLuSfSz9FAS"
      },
      "source": []
    }
  ],
  "metadata": {
    "colab": {
      "authorship_tag": "ABX9TyOZttFlEsKYqcukW5EViVm7",
      "collapsed_sections": [],
      "include_colab_link": true,
      "provenance": []
    },
    "kernelspec": {
      "display_name": "Python 3.10.0 64-bit",
      "language": "python",
      "name": "python3"
    },
    "language_info": {
      "codemirror_mode": {
        "name": "ipython",
        "version": 3
      },
      "file_extension": ".py",
      "mimetype": "text/x-python",
      "name": "python",
      "nbconvert_exporter": "python",
      "pygments_lexer": "ipython3",
      "version": "3.10.0"
    },
    "vscode": {
      "interpreter": {
        "hash": "edf259275ad4a72d4dd5b452264ad5fb2b635233dff2a31edc6ebc740e55e21b"
      }
    }
  },
  "nbformat": 4,
  "nbformat_minor": 0
}
