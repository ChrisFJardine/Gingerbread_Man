{
  "nbformat": 4,
  "nbformat_minor": 0,
  "metadata": {
    "colab": {
      "provenance": [],
      "collapsed_sections": [],
      "authorship_tag": "ABX9TyOZttFlEsKYqcukW5EViVm7",
      "include_colab_link": true
    },
    "kernelspec": {
      "name": "python3",
      "display_name": "Python 3"
    },
    "language_info": {
      "name": "python"
    }
  },
  "cells": [
    {
      "cell_type": "markdown",
      "metadata": {
        "id": "view-in-github",
        "colab_type": "text"
      },
      "source": [
        "<a href=\"https://colab.research.google.com/github/ChrisFJardine/Gingerbread_Man/blob/main/3CRC%20Results%20Analyser.ipynb\" target=\"_parent\"><img src=\"https://colab.research.google.com/assets/colab-badge.svg\" alt=\"Open In Colab\"/></a>"
      ]
    },
    {
      "cell_type": "code",
      "execution_count": 1,
      "metadata": {
        "colab": {
          "base_uri": "https://localhost:8080/"
        },
        "id": "gqxM49_jxYIB",
        "outputId": "da8ca242-b7cf-41e9-8fa7-424436908e02"
      },
      "outputs": [
        {
          "output_type": "stream",
          "name": "stdout",
          "text": [
            "Mounted at /content/drive\n"
          ]
        }
      ],
      "source": [
        "#Map Google drive\n",
        "from google.colab import drive\n",
        "drive.mount('/content/drive')"
      ]
    },
    {
      "cell_type": "code",
      "source": [
        "import requests\n",
        "import time\n",
        "from datetime import datetime\n",
        "from bs4 import BeautifulSoup\n",
        "from decimal import Decimal\n",
        "import pandas as pd"
      ],
      "metadata": {
        "id": "4j_68nLv3t0v"
      },
      "execution_count": 2,
      "outputs": []
    },
    {
      "cell_type": "code",
      "source": [
        "def getSoup(page):\n",
        "  soup = BeautifulSoup(page.text, 'html5lib')\n",
        "  return (soup)\n"
      ],
      "metadata": {
        "id": "CyUJ_DjIjhnJ"
      },
      "execution_count": 3,
      "outputs": []
    },
    {
      "cell_type": "code",
      "source": [
        "def getRunDate(soup):\n",
        "  dateString = soup.find('h4').text\n",
        "  runDate = datetime.strptime(dateString, '%d/%m/%Y').date()\n",
        "  return(runDate)"
      ],
      "metadata": {
        "id": "ulZHEuWRjb_B"
      },
      "execution_count": 4,
      "outputs": []
    },
    {
      "cell_type": "code",
      "source": [
        "def getCourse(soup):\n",
        "  if soup.find('h2')is None:\n",
        "    print('error in getCourse')\n",
        "    course = 'getCourse Error'\n",
        "  else:\n",
        "      course = soup.find('h2').text\n",
        "  return(course)"
      ],
      "metadata": {
        "id": "BZmA-8VXOK7K"
      },
      "execution_count": 5,
      "outputs": []
    },
    {
      "cell_type": "code",
      "source": [
        "def getRunDetails(soup):\n",
        "  columns = ['Athlete Place','Athlete Name', 'Athlete Gender','Run Time','Avg Pace','Points', 'Run ClassID','Run Length','Run Distance','Run Location','Run Date']\n",
        "  runDetails = pd.DataFrame(columns = columns)\n",
        "  course = getCourse(soup).replace('Results','')\n",
        "  runDate = getRunDate(soup)\n",
        "  for record in soup.find('table', attrs={'class':'table'}).find_all(['tr']):\n",
        "    if record.find('img') is not None:    \n",
        "      runClassID = record.find('img')['class'][0]\n",
        "      headerString = record.get_text().split()\n",
        "      if 'Run' in headerString:\n",
        "        runType = (headerString[headerString.index('Run') -1])\n",
        "        for word in headerString:\n",
        "          if 'km' in word:\n",
        "            dist  = Decimal(word.replace('km','').replace(')','')) \n",
        "    row = [td.text for td in record.find_all(['td'])]\n",
        "    row.append(runClassID)\n",
        "    row.append(runType)\n",
        "    row.append(dist)\n",
        "    row.append(course)\n",
        "    row.append(runDate)\n",
        "    if len(row) == 11:\n",
        "      runDetails.loc[len(runDetails)] = row\n",
        "  return(runDetails) \n"
      ],
      "metadata": {
        "id": "n--5kH-g_iMU"
      },
      "execution_count": 6,
      "outputs": []
    },
    {
      "cell_type": "code",
      "source": [
        "def get_pages(urlbase, startPageNo, pagesToCheck):\n",
        "  columns = ['Athlete Place','Athlete Name', 'Athlete Gender','Run Time','Avg Pace','Points', 'Run ClassID','Run Length','Run Distance','Run Location','Run Date']\n",
        "  allResults = pd.DataFrame(columns = columns)\n",
        "  for i in range (startPageNo, startPageNo + pagesToCheck):          #150 is start of 2022 season. Checks for 50 pages\n",
        "    url = urlbase + str(i)\n",
        "    try:\n",
        "      page = requests.get(url)\n",
        "    except:\n",
        "      print('Exception ' + str(page.status_code))  \n",
        "    if page.status_code == 200:\n",
        "        soup = getSoup(page)\n",
        "        runDetails = getRunDetails(soup)\n",
        "        allResults = pd.concat([allResults, runDetails])\n",
        "        time.sleep(1)\n",
        "  return(allResults)"
      ],
      "metadata": {
        "id": "FOM5jY5axa9a"
      },
      "execution_count": 7,
      "outputs": []
    },
    {
      "cell_type": "code",
      "source": [
        "urlbase = \"https://theautomatedclub.com/3CRC/Result/Details/\"\n",
        "results = get_pages(urlbase, 150, 26)\n",
        "results = results.drop_duplicates()\n"
      ],
      "metadata": {
        "id": "2uQdw_cTkdFE"
      },
      "execution_count": 9,
      "outputs": []
    },
    {
      "cell_type": "code",
      "source": [
        "results.to_csv('/content/drive/MyDrive/Colab Notebooks/Gingerbread_Man/2022_23_Results.csv', index=False) "
      ],
      "metadata": {
        "id": "SGr80tkv24Bt"
      },
      "execution_count": 13,
      "outputs": []
    },
    {
      "cell_type": "code",
      "source": [
        "display(results[results['Athlete Name'].str.contains(\"Chris Jardine\")])\n"
      ],
      "metadata": {
        "id": "DZxWJdxZK48M",
        "outputId": "781fc911-dbd2-4a37-e7e4-1086b1872de9",
        "colab": {
          "base_uri": "https://localhost:8080/",
          "height": 300
        }
      },
      "execution_count": 10,
      "outputs": [
        {
          "output_type": "display_data",
          "data": {
            "text/plain": [
              "    Athlete Place   Athlete Name Athlete Gender Run Time Avg Pace Points  \\\n",
              "105             8  Chris Jardine              M  1:02:02     6:12     43   \n",
              "80             13  Chris Jardine              M  1:24:05     7:00     38   \n",
              "34              5  Chris Jardine              M  1:10:37     7:04     46   \n",
              "10             11  Chris Jardine              M    56:28     5:49     40   \n",
              "43              8  Chris Jardine              M    56:39     5:50     43   \n",
              "95             10  Chris Jardine              M    53:38     5:32     41   \n",
              "111             8  Chris Jardine              M    59:50     5:59     43   \n",
              "106             7  Chris Jardine              M    55:28     5:33     44   \n",
              "\n",
              "    Run ClassID Run Length Run Distance            Run Location    Run Date  \n",
              "105       ig1-2       Long           10             Peace Park   2022-08-31  \n",
              "80        ig1-2       Long           12             Peace Park   2022-09-07  \n",
              "34        ig1-2       Long           10             Peace Park   2022-09-21  \n",
              "10        ig1-0       Long          9.7  Kitchener Poppet Head   2022-09-28  \n",
              "43        ig1-2       Long          9.7  Kitchener Poppet Head   2022-10-05  \n",
              "95        ig1-2       Long          9.7  Kitchener Poppet Head   2022-10-12  \n",
              "111       ig1-2       Long           10             Pelaw Main   2022-10-26  \n",
              "106       ig1-2       Long           10             Pelaw Main   2022-11-02  "
            ],
            "text/html": [
              "\n",
              "  <div id=\"df-103f6420-0756-4c06-a911-e30ab22dcb72\">\n",
              "    <div class=\"colab-df-container\">\n",
              "      <div>\n",
              "<style scoped>\n",
              "    .dataframe tbody tr th:only-of-type {\n",
              "        vertical-align: middle;\n",
              "    }\n",
              "\n",
              "    .dataframe tbody tr th {\n",
              "        vertical-align: top;\n",
              "    }\n",
              "\n",
              "    .dataframe thead th {\n",
              "        text-align: right;\n",
              "    }\n",
              "</style>\n",
              "<table border=\"1\" class=\"dataframe\">\n",
              "  <thead>\n",
              "    <tr style=\"text-align: right;\">\n",
              "      <th></th>\n",
              "      <th>Athlete Place</th>\n",
              "      <th>Athlete Name</th>\n",
              "      <th>Athlete Gender</th>\n",
              "      <th>Run Time</th>\n",
              "      <th>Avg Pace</th>\n",
              "      <th>Points</th>\n",
              "      <th>Run ClassID</th>\n",
              "      <th>Run Length</th>\n",
              "      <th>Run Distance</th>\n",
              "      <th>Run Location</th>\n",
              "      <th>Run Date</th>\n",
              "    </tr>\n",
              "  </thead>\n",
              "  <tbody>\n",
              "    <tr>\n",
              "      <th>105</th>\n",
              "      <td>8</td>\n",
              "      <td>Chris Jardine</td>\n",
              "      <td>M</td>\n",
              "      <td>1:02:02</td>\n",
              "      <td>6:12</td>\n",
              "      <td>43</td>\n",
              "      <td>ig1-2</td>\n",
              "      <td>Long</td>\n",
              "      <td>10</td>\n",
              "      <td>Peace Park</td>\n",
              "      <td>2022-08-31</td>\n",
              "    </tr>\n",
              "    <tr>\n",
              "      <th>80</th>\n",
              "      <td>13</td>\n",
              "      <td>Chris Jardine</td>\n",
              "      <td>M</td>\n",
              "      <td>1:24:05</td>\n",
              "      <td>7:00</td>\n",
              "      <td>38</td>\n",
              "      <td>ig1-2</td>\n",
              "      <td>Long</td>\n",
              "      <td>12</td>\n",
              "      <td>Peace Park</td>\n",
              "      <td>2022-09-07</td>\n",
              "    </tr>\n",
              "    <tr>\n",
              "      <th>34</th>\n",
              "      <td>5</td>\n",
              "      <td>Chris Jardine</td>\n",
              "      <td>M</td>\n",
              "      <td>1:10:37</td>\n",
              "      <td>7:04</td>\n",
              "      <td>46</td>\n",
              "      <td>ig1-2</td>\n",
              "      <td>Long</td>\n",
              "      <td>10</td>\n",
              "      <td>Peace Park</td>\n",
              "      <td>2022-09-21</td>\n",
              "    </tr>\n",
              "    <tr>\n",
              "      <th>10</th>\n",
              "      <td>11</td>\n",
              "      <td>Chris Jardine</td>\n",
              "      <td>M</td>\n",
              "      <td>56:28</td>\n",
              "      <td>5:49</td>\n",
              "      <td>40</td>\n",
              "      <td>ig1-0</td>\n",
              "      <td>Long</td>\n",
              "      <td>9.7</td>\n",
              "      <td>Kitchener Poppet Head</td>\n",
              "      <td>2022-09-28</td>\n",
              "    </tr>\n",
              "    <tr>\n",
              "      <th>43</th>\n",
              "      <td>8</td>\n",
              "      <td>Chris Jardine</td>\n",
              "      <td>M</td>\n",
              "      <td>56:39</td>\n",
              "      <td>5:50</td>\n",
              "      <td>43</td>\n",
              "      <td>ig1-2</td>\n",
              "      <td>Long</td>\n",
              "      <td>9.7</td>\n",
              "      <td>Kitchener Poppet Head</td>\n",
              "      <td>2022-10-05</td>\n",
              "    </tr>\n",
              "    <tr>\n",
              "      <th>95</th>\n",
              "      <td>10</td>\n",
              "      <td>Chris Jardine</td>\n",
              "      <td>M</td>\n",
              "      <td>53:38</td>\n",
              "      <td>5:32</td>\n",
              "      <td>41</td>\n",
              "      <td>ig1-2</td>\n",
              "      <td>Long</td>\n",
              "      <td>9.7</td>\n",
              "      <td>Kitchener Poppet Head</td>\n",
              "      <td>2022-10-12</td>\n",
              "    </tr>\n",
              "    <tr>\n",
              "      <th>111</th>\n",
              "      <td>8</td>\n",
              "      <td>Chris Jardine</td>\n",
              "      <td>M</td>\n",
              "      <td>59:50</td>\n",
              "      <td>5:59</td>\n",
              "      <td>43</td>\n",
              "      <td>ig1-2</td>\n",
              "      <td>Long</td>\n",
              "      <td>10</td>\n",
              "      <td>Pelaw Main</td>\n",
              "      <td>2022-10-26</td>\n",
              "    </tr>\n",
              "    <tr>\n",
              "      <th>106</th>\n",
              "      <td>7</td>\n",
              "      <td>Chris Jardine</td>\n",
              "      <td>M</td>\n",
              "      <td>55:28</td>\n",
              "      <td>5:33</td>\n",
              "      <td>44</td>\n",
              "      <td>ig1-2</td>\n",
              "      <td>Long</td>\n",
              "      <td>10</td>\n",
              "      <td>Pelaw Main</td>\n",
              "      <td>2022-11-02</td>\n",
              "    </tr>\n",
              "  </tbody>\n",
              "</table>\n",
              "</div>\n",
              "      <button class=\"colab-df-convert\" onclick=\"convertToInteractive('df-103f6420-0756-4c06-a911-e30ab22dcb72')\"\n",
              "              title=\"Convert this dataframe to an interactive table.\"\n",
              "              style=\"display:none;\">\n",
              "        \n",
              "  <svg xmlns=\"http://www.w3.org/2000/svg\" height=\"24px\"viewBox=\"0 0 24 24\"\n",
              "       width=\"24px\">\n",
              "    <path d=\"M0 0h24v24H0V0z\" fill=\"none\"/>\n",
              "    <path d=\"M18.56 5.44l.94 2.06.94-2.06 2.06-.94-2.06-.94-.94-2.06-.94 2.06-2.06.94zm-11 1L8.5 8.5l.94-2.06 2.06-.94-2.06-.94L8.5 2.5l-.94 2.06-2.06.94zm10 10l.94 2.06.94-2.06 2.06-.94-2.06-.94-.94-2.06-.94 2.06-2.06.94z\"/><path d=\"M17.41 7.96l-1.37-1.37c-.4-.4-.92-.59-1.43-.59-.52 0-1.04.2-1.43.59L10.3 9.45l-7.72 7.72c-.78.78-.78 2.05 0 2.83L4 21.41c.39.39.9.59 1.41.59.51 0 1.02-.2 1.41-.59l7.78-7.78 2.81-2.81c.8-.78.8-2.07 0-2.86zM5.41 20L4 18.59l7.72-7.72 1.47 1.35L5.41 20z\"/>\n",
              "  </svg>\n",
              "      </button>\n",
              "      \n",
              "  <style>\n",
              "    .colab-df-container {\n",
              "      display:flex;\n",
              "      flex-wrap:wrap;\n",
              "      gap: 12px;\n",
              "    }\n",
              "\n",
              "    .colab-df-convert {\n",
              "      background-color: #E8F0FE;\n",
              "      border: none;\n",
              "      border-radius: 50%;\n",
              "      cursor: pointer;\n",
              "      display: none;\n",
              "      fill: #1967D2;\n",
              "      height: 32px;\n",
              "      padding: 0 0 0 0;\n",
              "      width: 32px;\n",
              "    }\n",
              "\n",
              "    .colab-df-convert:hover {\n",
              "      background-color: #E2EBFA;\n",
              "      box-shadow: 0px 1px 2px rgba(60, 64, 67, 0.3), 0px 1px 3px 1px rgba(60, 64, 67, 0.15);\n",
              "      fill: #174EA6;\n",
              "    }\n",
              "\n",
              "    [theme=dark] .colab-df-convert {\n",
              "      background-color: #3B4455;\n",
              "      fill: #D2E3FC;\n",
              "    }\n",
              "\n",
              "    [theme=dark] .colab-df-convert:hover {\n",
              "      background-color: #434B5C;\n",
              "      box-shadow: 0px 1px 3px 1px rgba(0, 0, 0, 0.15);\n",
              "      filter: drop-shadow(0px 1px 2px rgba(0, 0, 0, 0.3));\n",
              "      fill: #FFFFFF;\n",
              "    }\n",
              "  </style>\n",
              "\n",
              "      <script>\n",
              "        const buttonEl =\n",
              "          document.querySelector('#df-103f6420-0756-4c06-a911-e30ab22dcb72 button.colab-df-convert');\n",
              "        buttonEl.style.display =\n",
              "          google.colab.kernel.accessAllowed ? 'block' : 'none';\n",
              "\n",
              "        async function convertToInteractive(key) {\n",
              "          const element = document.querySelector('#df-103f6420-0756-4c06-a911-e30ab22dcb72');\n",
              "          const dataTable =\n",
              "            await google.colab.kernel.invokeFunction('convertToInteractive',\n",
              "                                                     [key], {});\n",
              "          if (!dataTable) return;\n",
              "\n",
              "          const docLinkHtml = 'Like what you see? Visit the ' +\n",
              "            '<a target=\"_blank\" href=https://colab.research.google.com/notebooks/data_table.ipynb>data table notebook</a>'\n",
              "            + ' to learn more about interactive tables.';\n",
              "          element.innerHTML = '';\n",
              "          dataTable['output_type'] = 'display_data';\n",
              "          await google.colab.output.renderOutput(dataTable, element);\n",
              "          const docLink = document.createElement('div');\n",
              "          docLink.innerHTML = docLinkHtml;\n",
              "          element.appendChild(docLink);\n",
              "        }\n",
              "      </script>\n",
              "    </div>\n",
              "  </div>\n",
              "  "
            ]
          },
          "metadata": {}
        }
      ]
    },
    {
      "cell_type": "markdown",
      "source": [],
      "metadata": {
        "id": "HpLuSfSz9FAS"
      }
    }
  ]
}